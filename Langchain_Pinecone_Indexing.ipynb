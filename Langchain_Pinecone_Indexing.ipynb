{
 "cells": [
  {
   "cell_type": "code",
   "execution_count": 21,
   "metadata": {
    "dotnet_interactive": {
     "language": "csharp"
    },
    "polyglot_notebook": {
     "kernelName": "csharp"
    }
   },
   "outputs": [
    {
     "data": {
      "text/plain": [
       "65"
      ]
     },
     "execution_count": 21,
     "metadata": {},
     "output_type": "execute_result"
    }
   ],
   "source": [
    "from langchain_community.document_loaders import PyPDFLoader\n",
    "\n",
    "directory = \"C:\\\\Sowmya\\\\Personal\\\\LANGCHAIN\\\\ChatBot_with_Langchain_Pinecone\\\\data\\\\Canada.pdf\"\n",
    "\n",
    "def load_data(directory):\n",
    "    loader = PyPDFLoader(directory)\n",
    "    documents = loader.load()\n",
    "    return documents\n",
    "\n",
    "documents = load_data(directory)\n",
    "len(documents)"
   ]
  },
  {
   "cell_type": "code",
   "execution_count": 22,
   "metadata": {},
   "outputs": [
    {
     "name": "stdout",
     "output_type": "stream",
     "text": [
      "511\n"
     ]
    }
   ],
   "source": [
    "from langchain.text_splitter import RecursiveCharacterTextSplitter\n",
    "\n",
    "def split_docs(documents, chunk_size=500, chunk_overlap=20):\n",
    "    text_splitter = RecursiveCharacterTextSplitter(chunk_size=chunk_size, chunk_overlap=chunk_overlap)\n",
    "    docs = text_splitter.split_documents(documents)\n",
    "    return docs\n",
    "\n",
    "docs = split_docs(documents)\n",
    "print(len(docs))"
   ]
  },
  {
   "cell_type": "code",
   "execution_count": 23,
   "metadata": {},
   "outputs": [
    {
     "name": "stdout",
     "output_type": "stream",
     "text": [
      "• Total\n",
      "  $2.472 trillion[5]\n",
      "(16th)\n",
      "• Per capita\n",
      "  $60,495[5] (28th)\n",
      "GDP (nominal) 2024 estimate\n",
      "• Total\n",
      "  $2.242 trillion[5]\n",
      "(10th)\n",
      "• Per capita\n",
      "  $54,866[5] (18th)\n",
      "Gini (2018)\n",
      "  30.3[6]\n",
      "medium\n",
      "HDI (2022)\n",
      "  0.935[7]\n",
      "very high (18th)\n",
      "Currency Canadian dollar ($)\n",
      "(CAD)\n",
      "Time zone UTC−3.5 to −8\n",
      "• Summer (DST) UTC−2.5 to −7equality. It is one of the world's most ethnically diverse\n",
      "and multicultural nations, the produc t of large-scale\n",
      "immigration. Canada's long and complex relationship\n"
     ]
    }
   ],
   "source": [
    "print(docs[7].page_content)"
   ]
  },
  {
   "cell_type": "code",
   "execution_count": 24,
   "metadata": {},
   "outputs": [],
   "source": [
    "# from langchain_community.embeddings import SentenceTransformerEmbeddings\n",
    "# embeddings = SentenceTransformerEmbeddings(model_name='all-MiniLM-L6-v2')\n",
    "\n",
    "# client = AzureOpenAI(\n",
    "#     api_version=\"2024-02-15-preview\",\n",
    "#     azure_deployment=\"atttestgpt35turbo\",\n",
    "#     azure_endpoint=\"https://cb-att-openai-instance.openai.azure.com/\",\n",
    "#     api_key=AZURE_OPENAI_KEY\n",
    "# )\n",
    "\n",
    "import os\n",
    "from dotenv import load_dotenv\n",
    "from langchain_community.embeddings import AzureOpenAIEmbeddings\n",
    "\n",
    "load_dotenv()\n",
    "\n",
    "AZURE_OPENAI_API_KEY = os.getenv('AZURE_OPENAI_API_KEY')\n",
    "\n",
    "embeddings = AzureOpenAIEmbeddings(\n",
    "    deployment='vector-search-instance2',\n",
    "    model='text-embedding-ada-002',\n",
    "    openai_api_type='azure',\n",
    "    azure_endpoint='https://cb-att-openai-instance.openai.azure.com/',\n",
    "    api_key=AZURE_OPENAI_API_KEY,\n",
    ")"
   ]
  },
  {
   "cell_type": "code",
   "execution_count": 25,
   "metadata": {},
   "outputs": [
    {
     "data": {
      "text/plain": [
       "1536"
      ]
     },
     "execution_count": 25,
     "metadata": {},
     "output_type": "execute_result"
    }
   ],
   "source": [
    "query_result = embeddings.embed_query(\"Hello world\")\n",
    "len(query_result)"
   ]
  },
  {
   "cell_type": "code",
   "execution_count": 26,
   "metadata": {},
   "outputs": [
    {
     "name": "stderr",
     "output_type": "stream",
     "text": [
      "c:\\Sowmya\\Personal\\LANGCHAIN\\ChatBot_with_Langchain_Pinecone\\venv\\lib\\site-packages\\pinecone\\data\\index.py:1: TqdmWarning: IProgress not found. Please update jupyter and ipywidgets. See https://ipywidgets.readthedocs.io/en/stable/user_install.html\n",
      "  from tqdm.autonotebook import tqdm\n"
     ]
    }
   ],
   "source": [
    "import os\n",
    "from dotenv import load_dotenv\n",
    "from pinecone import Pinecone\n",
    "from langchain_pinecone import PineconeVectorStore\n",
    "\n",
    "load_dotenv()\n",
    "\n",
    "PINECONE_API_KEY = os.getenv('PINECONE_API_KEY')\n",
    "\n",
    "Pinecone(\n",
    "    api_key=PINECONE_API_KEY,\n",
    "    environment='us-east-1'\n",
    ")\n",
    "\n",
    "index_name = 'langchain-chatbot'\n",
    "\n",
    "vectordb = PineconeVectorStore.from_documents(documents=docs, embedding=embeddings, index_name=index_name)"
   ]
  },
  {
   "cell_type": "code",
   "execution_count": 27,
   "metadata": {},
   "outputs": [
    {
     "data": {
      "text/plain": [
       "[Document(page_content=\"tion_and_demography/40-million). Statistics Canada. June 16, 2023. Retrieved\\nSeptember 7, 2023.\\n326. Edmonston, Barry; Fong, Eric (2011). The Changing Canadian Population (https://books.goo\\ngle.com/books?id=VVYOgvFPvBEC&pg=PA181). McGill-Queen's University Press. p. 181.\\nISBN 978-0-7735-3793-4.\\n327. Zimmerman, Karla (2008). Canada (https://books.google.com/books?id=kv4nlSWLT8UC&pg\\n=PA51) (10th ed.). Lonely Planet. p. 51. ISBN 978-1-74104-571-0.\", metadata={'page': 50.0, 'source': 'C:\\\\Sowmya\\\\Personal\\\\LANGCHAIN\\\\ChatBot_with_Langchain_Pinecone\\\\data\\\\Canada.pdf'})]"
      ]
     },
     "execution_count": 27,
     "metadata": {},
     "output_type": "execute_result"
    }
   ],
   "source": [
    "def get_similar_docs(query, k=1, score=False):\n",
    "    if score:\n",
    "        similar_docs = vectordb.similarity_search_with_score(query, k=k)  \n",
    "    else:\n",
    "        similar_docs = vectordb.similarity_search(query, k=k)\n",
    "    return similar_docs\n",
    "\n",
    "query = \"What is population in Canada?\"\n",
    "similar_docs = get_similar_docs(query)\n",
    "similar_docs"
   ]
  },
  {
   "cell_type": "markdown",
   "metadata": {},
   "source": [
    "============================= END==============================================="
   ]
  },
  {
   "cell_type": "code",
   "execution_count": 52,
   "metadata": {},
   "outputs": [],
   "source": [
    "from pinecone import Pinecone\n",
    "\n",
    "pc = Pinecone(\n",
    "    api_key=PINECONE_API_KEY,\n",
    "    environment = 'us-east-1'\n",
    ")"
   ]
  },
  {
   "cell_type": "code",
   "execution_count": 53,
   "metadata": {},
   "outputs": [],
   "source": [
    "index = pc.Index('langchain-chatbot')\n"
   ]
  },
  {
   "cell_type": "code",
   "execution_count": 72,
   "metadata": {},
   "outputs": [],
   "source": [
    "def find_match(input):\n",
    "    input_embed = embeddings.embed_query(input)\n",
    "    result = index.query(vector=input_embed, top_k=2, includeMetadata=True)\n",
    "    return result\n",
    "    # return result['matches'][0]['metadata']['text']+\"\\n\"+result['matches'][1]['metadata']['text']"
   ]
  },
  {
   "cell_type": "code",
   "execution_count": 73,
   "metadata": {},
   "outputs": [
    {
     "data": {
      "text/plain": [
       "{'matches': [{'id': '664f1f7b-dd09-42ba-b31e-24ea5afffa80',\n",
       "              'metadata': {'page': 50.0,\n",
       "                           'source': 'C:\\\\Sowmya\\\\Personal\\\\LANGCHAIN\\\\ChatBot_with_Langchain_Pinecone\\\\data\\\\Canada.pdf',\n",
       "                           'text': 'tion_and_demography/40-million). '\n",
       "                                   'Statistics Canada. June 16, 2023. '\n",
       "                                   'Retrieved\\n'\n",
       "                                   'September 7, 2023.\\n'\n",
       "                                   '326. Edmonston, Barry; Fong, Eric (2011). '\n",
       "                                   'The Changing Canadian Population '\n",
       "                                   '(https://books.goo\\n'\n",
       "                                   'gle.com/books?id=VVYOgvFPvBEC&pg=PA181). '\n",
       "                                   \"McGill-Queen's University Press. p. 181.\\n\"\n",
       "                                   'ISBN 978-0-7735-3793-4.\\n'\n",
       "                                   '327. Zimmerman, Karla (2008). Canada '\n",
       "                                   '(https://books.google.com/books?id=kv4nlSWLT8UC&pg\\n'\n",
       "                                   '=PA51) (10th ed.). Lonely Planet. p. 51. '\n",
       "                                   'ISBN 978-1-74104-571-0.'},\n",
       "              'score': 0.873388,\n",
       "              'values': []},\n",
       "             {'id': '5b852272-9268-46d1-a3a8-5564b6c82753',\n",
       "              'metadata': {'page': 50.0,\n",
       "                           'source': 'C:\\\\Sowmya\\\\Personal\\\\LANGCHAIN\\\\ChatBot_with_Langchain_Pinecone\\\\data\\\\Canada.pdf',\n",
       "                           'text': 'tion_and_demography/40-million). '\n",
       "                                   'Statistics Canada. June 16, 2023. '\n",
       "                                   'Retrieved\\n'\n",
       "                                   'September 7, 2023.\\n'\n",
       "                                   '326. Edmonston, Barry; Fong, Eric (2011). '\n",
       "                                   'The Changing Canadian Population '\n",
       "                                   '(https://books.goo\\n'\n",
       "                                   'gle.com/books?id=VVYOgvFPvBEC&pg=PA181). '\n",
       "                                   \"McGill-Queen's University Press. p. 181.\\n\"\n",
       "                                   'ISBN 978-0-7735-3793-4.\\n'\n",
       "                                   '327. Zimmerman, Karla (2008). Canada '\n",
       "                                   '(https://books.google.com/books?id=kv4nlSWLT8UC&pg\\n'\n",
       "                                   '=PA51) (10th ed.). Lonely Planet. p. 51. '\n",
       "                                   'ISBN 978-1-74104-571-0.'},\n",
       "              'score': 0.873321593,\n",
       "              'values': []}],\n",
       " 'namespace': '',\n",
       " 'usage': {'read_units': 6}}"
      ]
     },
     "execution_count": 73,
     "metadata": {},
     "output_type": "execute_result"
    }
   ],
   "source": [
    "result = find_match('What is population in Canada?')\n",
    "result"
   ]
  },
  {
   "cell_type": "code",
   "execution_count": 97,
   "metadata": {},
   "outputs": [],
   "source": [
    "conversation = \"\"\" \n",
    "Human: What is the economy in canada?\n",
    "BOT: The economy in canada is 3 trillion per year\n",
    "\"\"\""
   ]
  },
  {
   "cell_type": "code",
   "execution_count": 98,
   "metadata": {},
   "outputs": [],
   "source": [
    "query = \"what is it's culture\""
   ]
  },
  {
   "cell_type": "code",
   "execution_count": 99,
   "metadata": {},
   "outputs": [],
   "source": [
    "import os\n",
    "from openai import AzureOpenAI\n",
    "\n",
    "client = AzureOpenAI(\n",
    "  api_key = AZURE_OPENAI_API_KEY,  \n",
    "  api_version = \"2023-09-15-preview\",\n",
    "  azure_deployment=\"atttestgpt35turbo\",\n",
    "  azure_endpoint = 'https://cb-att-openai-instance.openai.azure.com/'\n",
    ")\n",
    "\n",
    "response = client.chat.completions.create(\n",
    "    model=\"gpt-35-turbo\", # model = \"deployment_name\".\n",
    "    messages=[\n",
    "        {\"role\": \"system\", \"content\": \"You are a helpfull assistant\"},\n",
    "        {\"role\": \"user\", \"content\": f\"Given the following user query and conversation log, formulate a question that \\\n",
    "        would be the most relevant to provide the user with an answer from the knowledge base. \\\n",
    "            \\n\\n CONVERSATION LOG: \\n{conversation}\\n\\nQuery: {query}\\n\\nRefined Query:\"}\n",
    "    ]\n",
    ")"
   ]
  },
  {
   "cell_type": "code",
   "execution_count": 100,
   "metadata": {},
   "outputs": [
    {
     "name": "stdout",
     "output_type": "stream",
     "text": [
      "What are some cultural aspects of Canada?\n"
     ]
    }
   ],
   "source": [
    "print(response.choices[0].message.content)"
   ]
  },
  {
   "cell_type": "code",
   "execution_count": 101,
   "metadata": {},
   "outputs": [
    {
     "name": "stdout",
     "output_type": "stream",
     "text": [
      "ChatCompletion(id='chatcmpl-9Ffodm7xoWYzn0gkmt4LNEEQBmpBu', choices=[Choice(finish_reason='stop', index=0, logprobs=None, message=ChatCompletionMessage(content='What are some cultural aspects of Canada?', role='assistant', function_call=None, tool_calls=None), content_filter_results={'hate': {'filtered': False, 'severity': 'safe'}, 'self_harm': {'filtered': False, 'severity': 'safe'}, 'sexual': {'filtered': False, 'severity': 'safe'}, 'violence': {'filtered': False, 'severity': 'safe'}})], created=1713522687, model='gpt-35-turbo', object='chat.completion', system_fingerprint=None, usage=CompletionUsage(completion_tokens=8, prompt_tokens=92, total_tokens=100), prompt_filter_results=[{'prompt_index': 0, 'content_filter_results': {'hate': {'filtered': False, 'severity': 'safe'}, 'self_harm': {'filtered': False, 'severity': 'safe'}, 'sexual': {'filtered': False, 'severity': 'safe'}, 'violence': {'filtered': False, 'severity': 'safe'}}}])\n"
     ]
    }
   ],
   "source": [
    "print(response)"
   ]
  },
  {
   "cell_type": "code",
   "execution_count": null,
   "metadata": {},
   "outputs": [],
   "source": []
  },
  {
   "cell_type": "code",
   "execution_count": 102,
   "metadata": {},
   "outputs": [],
   "source": [
    "items = ['book', 'pen', 'pensil', 'rubber', 'box', 'calculator']"
   ]
  },
  {
   "cell_type": "code",
   "execution_count": 109,
   "metadata": {},
   "outputs": [
    {
     "name": "stdout",
     "output_type": "stream",
     "text": [
      "Human: book\n",
      "Bot: pen\n",
      "Human: pen\n",
      "Bot: pensil\n",
      "Human: pensil\n",
      "Bot: rubber\n",
      "Human: rubber\n",
      "Bot: box\n",
      "Human: box\n",
      "Bot: calculator\n",
      "\n"
     ]
    }
   ],
   "source": [
    "conversation = \"\"\n",
    "for i in range(len(items)-1):\n",
    "    conversation += \"Human: \" + items[i] + \"\\n\"\n",
    "    conversation += \"Bot: \" + items[i+1] + \"\\n\"\n",
    "\n",
    "print(conversation)"
   ]
  },
  {
   "cell_type": "code",
   "execution_count": null,
   "metadata": {},
   "outputs": [],
   "source": []
  },
  {
   "cell_type": "code",
   "execution_count": 114,
   "metadata": {},
   "outputs": [
    {
     "name": "stdout",
     "output_type": "stream",
     "text": [
      "======================== <pinecone.data.index.Index object at 0x00000159204BF7C0>\n"
     ]
    }
   ],
   "source": [
    "pc = Pinecone(\n",
    "    api_key=PINECONE_API_KEY,\n",
    "    environment = 'us-east-1'\n",
    ")\n",
    "\n",
    "index = pc.Index('langchain-chatbot')\n",
    "# index = 'langchain-chatbot'\n",
    "print(\"========================\", index)"
   ]
  },
  {
   "cell_type": "code",
   "execution_count": null,
   "metadata": {},
   "outputs": [],
   "source": []
  }
 ],
 "metadata": {
  "kernelspec": {
   "display_name": "Python 3",
   "language": "python",
   "name": "python3"
  },
  "language_info": {
   "codemirror_mode": {
    "name": "ipython",
    "version": 3
   },
   "file_extension": ".py",
   "mimetype": "text/x-python",
   "name": "python",
   "nbconvert_exporter": "python",
   "pygments_lexer": "ipython3",
   "version": "3.9.0"
  },
  "polyglot_notebook": {
   "kernelInfo": {
    "defaultKernelName": "csharp",
    "items": [
     {
      "aliases": [],
      "name": "csharp"
     }
    ]
   }
  }
 },
 "nbformat": 4,
 "nbformat_minor": 2
}
