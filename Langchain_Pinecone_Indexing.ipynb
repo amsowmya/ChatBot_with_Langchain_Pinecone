{
 "cells": [
  {
   "cell_type": "code",
   "execution_count": 2,
   "metadata": {},
   "outputs": [
    {
     "data": {
      "text/plain": [
       "65"
      ]
     },
     "execution_count": 2,
     "metadata": {},
     "output_type": "execute_result"
    }
   ],
   "source": [
    "from langchain_community.document_loaders import PyPDFLoader\n",
    "\n",
    "directory = \"E:\\\\2024_GenAI\\\\LANGCHAIN\\\\ChatBot_with_Langchain_Pinecone\\\\data\\\\Canada.pdf\"\n",
    "\n",
    "def load_data(directory):\n",
    "    loader = PyPDFLoader(directory)\n",
    "    documents = loader.load()\n",
    "    return documents\n",
    "\n",
    "documents = load_data(directory)\n",
    "len(documents)"
   ]
  },
  {
   "cell_type": "code",
   "execution_count": 6,
   "metadata": {},
   "outputs": [
    {
     "name": "stdout",
     "output_type": "stream",
     "text": [
      "511\n"
     ]
    }
   ],
   "source": [
    "from langchain.text_splitter import RecursiveCharacterTextSplitter\n",
    "\n",
    "def split_docs(documents, chunk_size=500, chunk_overlap=20):\n",
    "    text_splitter = RecursiveCharacterTextSplitter(chunk_size=chunk_size, chunk_overlap=chunk_overlap)\n",
    "    docs = text_splitter.split_documents(documents)\n",
    "    return docs\n",
    "\n",
    "docs = split_docs(documents)\n",
    "print(len(docs))"
   ]
  },
  {
   "cell_type": "code",
   "execution_count": 7,
   "metadata": {},
   "outputs": [
    {
     "name": "stdout",
     "output_type": "stream",
     "text": [
      "• Total\n",
      "  $2.472 trillion[5]\n",
      "(16th)\n",
      "• Per capita\n",
      "  $60,495[5] (28th)\n",
      "GDP (nominal) 2024 estimate\n",
      "• Total\n",
      "  $2.242 trillion[5]\n",
      "(10th)\n",
      "• Per capita\n",
      "  $54,866[5] (18th)\n",
      "Gini (2018)\n",
      "  30.3[6]\n",
      "medium\n",
      "HDI (2022)\n",
      "  0.935[7]\n",
      "very high (18th)\n",
      "Currency Canadian dollar ($)\n",
      "(CAD)\n",
      "Time zone UTC−3.5 to −8\n",
      "• Summer (DST) UTC−2.5 to −7equality. It is one of the world's most ethnically diverse\n",
      "and multicultural nations, the produc t of large-scale\n",
      "immigration. Canada's long and complex relationship\n"
     ]
    }
   ],
   "source": [
    "print(docs[7].page_content)"
   ]
  },
  {
   "cell_type": "code",
   "execution_count": 15,
   "metadata": {},
   "outputs": [],
   "source": [
    "# from langchain_community.embeddings import SentenceTransformerEmbeddings\n",
    "# embeddings = SentenceTransformerEmbeddings(model_name='all-MiniLM-L6-v2')\n",
    "\n",
    "# client = AzureOpenAI(\n",
    "#     api_version=\"2024-02-15-preview\",\n",
    "#     azure_deployment=\"atttestgpt35turbo\",\n",
    "#     azure_endpoint=\"https://cb-att-openai-instance.openai.azure.com/\",\n",
    "#     api_key=AZURE_OPENAI_KEY\n",
    "# )\n",
    "\n",
    "import os\n",
    "from dotenv import load_dotenv\n",
    "from langchain_community.embeddings import AzureOpenAIEmbeddings\n",
    "\n",
    "load_dotenv()\n",
    "\n",
    "AZURE_OPENAI_API_KEY = os.getenv('AZURE_OPENAI_API_KEY')\n",
    "\n",
    "embeddings = AzureOpenAIEmbeddings(\n",
    "    deployment='vector-search-instance2',\n",
    "    model='text-embedding-ada-002',\n",
    "    openai_api_type='azure',\n",
    "    azure_endpoint='https://cb-att-openai-instance.openai.azure.com/',\n",
    "    api_key=AZURE_OPENAI_API_KEY,\n",
    ")"
   ]
  },
  {
   "cell_type": "code",
   "execution_count": 17,
   "metadata": {},
   "outputs": [
    {
     "data": {
      "text/plain": [
       "1536"
      ]
     },
     "execution_count": 17,
     "metadata": {},
     "output_type": "execute_result"
    }
   ],
   "source": [
    "query_result = embeddings.embed_query(\"Hello world\")\n",
    "len(query_result)"
   ]
  },
  {
   "cell_type": "code",
   "execution_count": 46,
   "metadata": {},
   "outputs": [
    {
     "data": {
      "text/plain": [
       "<pinecone.data.index.Index at 0x241a1ff9a90>"
      ]
     },
     "execution_count": 46,
     "metadata": {},
     "output_type": "execute_result"
    }
   ],
   "source": [
    "import os\n",
    "from pinecone import Pinecone\n",
    "from langchain_pinecone import PineconeVectorStore\n",
    "\n",
    "PINECONE_API_KEY = os.getenv('PINECONE_API_KEY')\n",
    "\n",
    "pc = Pinecone(\n",
    "    api_key='7a0aca34-2555-4295-8507-3def5da9ca4f',\n",
    "    environment='us-east-1'\n",
    ")\n",
    "\n",
    "index_name = 'langchain-chatbot'\n",
    "index = pc.Index(index_name)\n",
    "index\n",
    "vectordb = PineconeVectorStore.from_documents(documents=docs, embedding=embeddings, index_name=index_name)"
   ]
  },
  {
   "cell_type": "code",
   "execution_count": null,
   "metadata": {},
   "outputs": [],
   "source": [
    "def get_similar_docs(query, k=1, score=False):\n",
    "    if score:\n",
    "        similar_docs = vectordb.similarity_search_with_score(query, k=k)  \n",
    "    else:\n",
    "        similar_docs = vectordb.similarity_search(query, k=k)\n",
    "    return similar_docs\n",
    "\n",
    "query = \"What is population in Canada?\"\n",
    "similar_docs = get_similar_docs(query)\n",
    "similar_docs"
   ]
  }
 ],
 "metadata": {
  "kernelspec": {
   "display_name": "Python 3",
   "language": "python",
   "name": "python3"
  },
  "language_info": {
   "codemirror_mode": {
    "name": "ipython",
    "version": 3
   },
   "file_extension": ".py",
   "mimetype": "text/x-python",
   "name": "python",
   "nbconvert_exporter": "python",
   "pygments_lexer": "ipython3",
   "version": "3.9.19"
  }
 },
 "nbformat": 4,
 "nbformat_minor": 2
}
